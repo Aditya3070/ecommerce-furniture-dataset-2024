  {
   "cell_type": "code",
   "execution_count": 16,
   "metadata": {},
   "outputs": [],
   "source": [
    "# Saving (Pickle!) the model\n",
    "\n",
    "filename = \"rfc_model_02.pkl\"\n",
    "with open(filename, 'wb') as file:\n",
    "    pickle.dump(model_2, file)"
   ]
  },
  {
   "cell_type": "markdown",
   "metadata": {},
   "source": [
    "## 1.5 Predicting & Evaluating the Model\n",
    "\n",
    "Now that our model is trained & pickled! Time to test it out! ;)"
   ]
  },
  {
   "cell_type": "code",
   "execution_count": 17,
   "metadata": {},
   "outputs": [
    {
     "name": "stderr",
     "output_type": "stream",
     "text": [
      "[Parallel(n_jobs=8)]: Using backend ThreadingBackend with 8 concurrent workers.\n",
      "[Parallel(n_jobs=8)]: Done  16 tasks      | elapsed:    0.3s\n",
      "[Parallel(n_jobs=8)]: Done 112 tasks      | elapsed:    2.3s\n",
      "[Parallel(n_jobs=8)]: Done 272 tasks      | elapsed:    5.7s\n",
      "[Parallel(n_jobs=8)]: Done 300 out of 300 | elapsed:    6.2s finished\n"
     ]
    }
   ],
   "source": [
    "# predictions = model.predict(x_test)\n",
    "predictions = model_2.predict(x_test)"
   ]
  },
  {
   "cell_type": "code",
   "execution_count": 18,
   "metadata": {},
   "outputs": [
    {
     "name": "stdout",
     "output_type": "stream",
     "text": [
      "[[1664  154  736  240  156]\n",
      " [ 532  515 1069  235  192]\n",
      " [ 495  173 4259 1178  970]\n",
      " [ 202   44 1324 3673 3156]\n",
      " [ 210   46 1346 3585 3209]]\n",
      "              precision    recall  f1-score   support\n",
      "\n",
      "           1       0.54      0.56      0.55      2950\n",
      "           2       0.55      0.20      0.30      2543\n",
      "           3       0.49      0.60      0.54      7075\n",
      "           4       0.41      0.44      0.42      8399\n",
      "           5       0.42      0.38      0.40      8396\n",
      "\n",
      "    accuracy                           0.45     29363\n",
      "   macro avg       0.48      0.44      0.44     29363\n",
      "weighted avg       0.46      0.45      0.45     29363\n",
      "\n",
      "0.4536321220583728\n"
     ]
    }
   ],
   "source": [
    "from sklearn.metrics import classification_report, confusion_matrix, accuracy_score\n",
    "\n",
    "print(confusion_matrix(y_test,predictions))\n",
    "print(classification_report(y_test,predictions))\n",
    "print(accuracy_score(y_test, predictions))"
   ]
  },
  {
   "cell_type": "code",
   "execution_count": 32,
   "metadata": {},
   "outputs": [
    {
     "name": "stdout",
     "output_type": "stream",
     "text": [
      "1\n",
      "5\n"
     ]
    }
   ],
   "source": [
    "# Checking the prediction output accurate & is between 1 to 5\n",
    "\n",
    "print(min(predictions))\n",
    "print(max(predictions))"
   ]
  },
  {
   "cell_type": "markdown",
   "metadata": {},
   "source": [
    "## Summary\n",
    "\n",
    "Reviewing the accuracy score, it seems that our first model `rfc_model_01.pkl` has 45.5% accuracy, still not the best but we could try improving it by tuning the variables.\n",
    "\n",
    "We then tuned and implemented a 2nd model where we increased the trees by increasing the `n_estimators` & turned on the `OOB_SCORE`. The resulted `rfc_model_02.pkl` has 45.36% accuracy which seems to be slightly poorer based on the current test_split testing.\n",
    "\n",
    "Next, we will use both models to prepare a script for submission to see the actual test results before tuning accordingly."
   ]
  }
 ],
 "metadata": {
  "kernelspec": {
   "display_name": "Python 3",
   "language": "python",
   "name": "python3"
  },
  "language_info": {
   "codemirror_mode": {
    "name": "ipython",
    "version": 3
   },
   "file_extension": ".py",
   "mimetype": "text/x-python",
   "name": "python",
   "nbconvert_exporter": "python",
   "pygments_lexer": "ipython3",
   "version": "3.7.3"
  }
 },
 "nbformat": 4,
 "nbformat_minor": 4
}
