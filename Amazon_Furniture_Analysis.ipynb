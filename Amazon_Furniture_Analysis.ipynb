{
 "cells": [
  {
   "cell_type": "markdown",
   "id": "c84b3708",
   "metadata": {},
   "source": [
    "# 📊 Amazon E-commerce Furniture Dataset 2024 - Analysis & Prediction\n",
    "\n",
    "### 📝 Project Overview  \n",
    "This project analyzes the **Amazon E-commerce Furniture Dataset 2024**, focusing on price trends, category distribution, and rating patterns over the years.  \n",
    "We perform **data cleaning, visualization, and machine learning-based price prediction**.\n",
    "\n",
    "---  \n"
   ]
  },
  {
   "cell_type": "markdown",
   "id": "c4ae1005",
   "metadata": {},
   "source": [
    "## 📂 1. Load & Inspect Data\n",
    "We first load the dataset and inspect its structure.\n"
   ]
  },
  {
   "cell_type": "code",
   "execution_count": null,
   "id": "5fd2d547",
   "metadata": {},
   "outputs": [],
   "source": [
    "import pandas as pd\n",
    "\n",
    "# Load Dataset\n",
    "df = pd.read_csv(\"amazon_furniture_dataset_2024.csv\")\n",
    "\n",
    "# Display basic info\n",
    "df.info()\n",
    "df.head()\n"
   ]
  },
  {
   "cell_type": "markdown",
   "id": "b903035e",
   "metadata": {},
   "source": [
    "## 🛠 2. Data Cleaning  \n",
    "We remove duplicates, handle missing values, and convert data types.\n"
   ]
  },
  {
   "cell_type": "code",
   "execution_count": null,
   "id": "23be1930",
   "metadata": {},
   "outputs": [],
   "source": [
    "# Remove duplicates and handle missing values\n",
    "df.drop_duplicates(inplace=True)\n",
    "df.dropna(inplace=True)\n",
    "\n",
    "# Convert price to numeric\n",
    "df['price'] = df['price'].replace('[\\$,]', '', regex=True).astype(float)\n",
    "\n",
    "# Convert ratings to numeric\n",
    "df['rating'] = pd.to_numeric(df['rating'], errors='coerce')\n",
    "df['rating'].fillna(df['rating'].mean(), inplace=True)\n"
   ]
  },
  {
   "cell_type": "markdown",
   "id": "0c5f5695",
   "metadata": {},
   "source": [
    "## 📊 3. Exploratory Data Analysis  \n",
    "We visualize **price distributions**, **category-wise price variations**, and **yearly trends**.\n"
   ]
  },
  {
   "cell_type": "code",
   "execution_count": null,
   "id": "f2bd0e82",
   "metadata": {},
   "outputs": [],
   "source": [
    "import matplotlib.pyplot as plt\n",
    "import seaborn as sns\n",
    "\n",
    "# Price Distribution\n",
    "plt.figure(figsize=(10,5))\n",
    "sns.histplot(df['price'], bins=30, kde=True, color=\"skyblue\")\n",
    "plt.title(\"Price Distribution\")\n",
    "plt.show()\n",
    "\n",
    "# Price by Category\n",
    "plt.figure(figsize=(12,5))\n",
    "sns.boxplot(x=df['category'], y=df['price'], palette=\"coolwarm\")\n",
    "plt.xticks(rotation=45)\n",
    "plt.title(\"Price Variation by Category\")\n",
    "plt.show()\n"
   ]
  },
  {
   "cell_type": "markdown",
   "id": "1cf90d40",
   "metadata": {},
   "source": [
    "## 📅 4. Yearly Comparison  \n",
    "We analyze price trends and rating variations over different years.\n"
   ]
  },
  {
   "cell_type": "code",
   "execution_count": null,
   "id": "8cb3a869",
   "metadata": {},
   "outputs": [],
   "source": [
    "# Convert 'year' column to datetime if not already\n",
    "df['year'] = pd.to_datetime(df['year'], errors='coerce').dt.year\n",
    "\n",
    "# Yearly Price Trend\n",
    "plt.figure(figsize=(10,5))\n",
    "sns.lineplot(x=df['year'], y=df['price'], marker=\"o\", color=\"green\")\n",
    "plt.title(\"Yearly Price Trend\")\n",
    "plt.show()\n",
    "\n",
    "# Yearly Rating Trend\n",
    "plt.figure(figsize=(10,5))\n",
    "sns.lineplot(x=df['year'], y=df['rating'], marker=\"o\", color=\"red\")\n",
    "plt.title(\"Yearly Rating Trend\")\n",
    "plt.show()\n"
   ]
  },
  {
   "cell_type": "markdown",
   "id": "1d99a926",
   "metadata": {},
   "source": [
    "## 🤖 5. Machine Learning - Price Prediction  \n",
    "We train a **Random Forest Regressor** to predict furniture prices.\n"
   ]
  },
  {
   "cell_type": "code",
   "execution_count": null,
   "id": "eca20212",
   "metadata": {},
   "outputs": [],
   "source": [
    "from sklearn.model_selection import train_test_split\n",
    "from sklearn.ensemble import RandomForestRegressor\n",
    "from sklearn.metrics import mean_absolute_error, mean_squared_error, r2_score\n",
    "import numpy as np\n",
    "\n",
    "# One-hot encode categorical variables\n",
    "df = pd.get_dummies(df, columns=['category', 'brand'], drop_first=True)\n",
    "\n",
    "# Define features and target\n",
    "X = df.drop(columns=['price'])\n",
    "y = df['price']\n",
    "\n",
    "# Split dataset\n",
    "X_train, X_test, y_train, y_test = train_test_split(X, y, test_size=0.2, random_state=42)\n",
    "\n",
    "# Train model\n",
    "model = RandomForestRegressor(n_estimators=100, random_state=42)\n",
    "model.fit(X_train, y_train)\n",
    "\n",
    "# Predictions & Evaluation\n",
    "y_pred = model.predict(X_test)\n",
    "\n",
    "print(\"MAE:\", mean_absolute_error(y_test, y_pred))\n",
    "print(\"RMSE:\", np.sqrt(mean_squared_error(y_test, y_pred)))\n",
    "print(\"R2 Score:\", r2_score(y_test, y_pred))\n"
   ]
  }
 ],
 "metadata": {},
 "nbformat": 4,
 "nbformat_minor": 5
}
